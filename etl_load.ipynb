{
 "cells": [
  {
   "cell_type": "code",
   "execution_count": 1,
   "id": "6b3d7704",
   "metadata": {},
   "outputs": [],
   "source": [
    "import pandas as pd\n",
    "import sqlite3\n",
    "import os\n",
    "\n",
    "# Create the output folder if not exists\n",
    "os.makedirs(\"loaded_data\", exist_ok=True)\n",
    "\n",
    "# File paths\n",
    "full_csv = \"transformed_full.csv\"\n",
    "incremental_csv = \"transformed_incremental.csv\"\n",
    "full_db_path = \"loaded_data/full_data.db\"\n",
    "incremental_db_path = \"loaded_data/incremental_data.db\"\n"
   ]
  },
  {
   "cell_type": "code",
   "execution_count": 2,
   "id": "3e092db2",
   "metadata": {},
   "outputs": [
    {
     "name": "stdout",
     "output_type": "stream",
     "text": [
      "✅ Loaded full dataset into SQLite: loaded_data/full_data.db\n"
     ]
    }
   ],
   "source": [
    "# Load CSV\n",
    "df_full = pd.read_csv(full_csv)\n",
    "\n",
    "# Connect to SQLite\n",
    "conn_full = sqlite3.connect(full_db_path)\n",
    "\n",
    "# Save DataFrame to SQLite\n",
    "df_full.to_sql(\"full_data\", conn_full, if_exists=\"replace\", index=False)\n",
    "\n",
    "# Confirm success\n",
    "print(\"✅ Loaded full dataset into SQLite: loaded_data/full_data.db\")\n",
    "conn_full.close()\n"
   ]
  },
  {
   "cell_type": "code",
   "execution_count": 6,
   "id": "2366f55c",
   "metadata": {},
   "outputs": [
    {
     "name": "stdout",
     "output_type": "stream",
     "text": [
      "✅ Loaded incremental dataset into SQLite: loaded_data/incremental_data.db\n"
     ]
    }
   ],
   "source": [
    "# Load CSV\n",
    "df_incremental = pd.read_csv(incremental_csv)\n",
    "\n",
    "# Connect to SQLite\n",
    "conn_inc = sqlite3.connect(incremental_db_path)\n",
    "\n",
    "# Save DataFrame\n",
    "df_incremental.to_sql(\"incremental_data\", conn_inc, if_exists=\"replace\", index=False)\n",
    "\n",
    "# Confirm success\n",
    "print(\"✅ Loaded incremental dataset into SQLite: loaded_data/incremental_data.db\")\n",
    "conn_inc.close()\n"
   ]
  },
  {
   "cell_type": "code",
   "execution_count": 5,
   "id": "35ff73d1",
   "metadata": {},
   "outputs": [
    {
     "name": "stdout",
     "output_type": "stream",
     "text": [
      " Preview of full_data table:\n"
     ]
    },
    {
     "data": {
      "text/html": [
       "<div>\n",
       "<style scoped>\n",
       "    .dataframe tbody tr th:only-of-type {\n",
       "        vertical-align: middle;\n",
       "    }\n",
       "\n",
       "    .dataframe tbody tr th {\n",
       "        vertical-align: top;\n",
       "    }\n",
       "\n",
       "    .dataframe thead th {\n",
       "        text-align: right;\n",
       "    }\n",
       "</style>\n",
       "<table border=\"1\" class=\"dataframe\">\n",
       "  <thead>\n",
       "    <tr style=\"text-align: right;\">\n",
       "      <th></th>\n",
       "      <th>user_id</th>\n",
       "      <th>activity</th>\n",
       "      <th>device_type</th>\n",
       "      <th>last_updated</th>\n",
       "      <th>activity_type</th>\n",
       "    </tr>\n",
       "  </thead>\n",
       "  <tbody>\n",
       "    <tr>\n",
       "      <th>0</th>\n",
       "      <td>user003</td>\n",
       "      <td>logout</td>\n",
       "      <td>desktop</td>\n",
       "      <td>2025-04-01 08:28:00</td>\n",
       "      <td>Other</td>\n",
       "    </tr>\n",
       "    <tr>\n",
       "      <th>1</th>\n",
       "      <td>user003</td>\n",
       "      <td>logout</td>\n",
       "      <td>tablet</td>\n",
       "      <td>2025-04-01 07:04:00</td>\n",
       "      <td>Other</td>\n",
       "    </tr>\n",
       "    <tr>\n",
       "      <th>2</th>\n",
       "      <td>user008</td>\n",
       "      <td>purchase</td>\n",
       "      <td>mobile</td>\n",
       "      <td>2025-04-01 11:45:00</td>\n",
       "      <td>Purchase</td>\n",
       "    </tr>\n",
       "    <tr>\n",
       "      <th>3</th>\n",
       "      <td>user002</td>\n",
       "      <td>login</td>\n",
       "      <td>desktop</td>\n",
       "      <td>2025-04-01 04:35:00</td>\n",
       "      <td>Login</td>\n",
       "    </tr>\n",
       "    <tr>\n",
       "      <th>4</th>\n",
       "      <td>user009</td>\n",
       "      <td>login</td>\n",
       "      <td>desktop</td>\n",
       "      <td>2025-04-01 19:44:00</td>\n",
       "      <td>Login</td>\n",
       "    </tr>\n",
       "  </tbody>\n",
       "</table>\n",
       "</div>"
      ],
      "text/plain": [
       "   user_id  activity device_type         last_updated activity_type\n",
       "0  user003    logout     desktop  2025-04-01 08:28:00         Other\n",
       "1  user003    logout      tablet  2025-04-01 07:04:00         Other\n",
       "2  user008  purchase      mobile  2025-04-01 11:45:00      Purchase\n",
       "3  user002     login     desktop  2025-04-01 04:35:00         Login\n",
       "4  user009     login     desktop  2025-04-01 19:44:00         Login"
      ]
     },
     "metadata": {},
     "output_type": "display_data"
    }
   ],
   "source": [
    "# Reconnect to DB to preview tables\n",
    "conn_full = sqlite3.connect(full_db_path)\n",
    "df_check = pd.read_sql(\"SELECT * FROM full_data LIMIT 5\", conn_full)\n",
    "print(\" Preview of full_data table:\")\n",
    "display(df_check)\n",
    "conn_full.close()\n"
   ]
  }
 ],
 "metadata": {
  "kernelspec": {
   "display_name": "Python 3",
   "language": "python",
   "name": "python3"
  },
  "language_info": {
   "codemirror_mode": {
    "name": "ipython",
    "version": 3
   },
   "file_extension": ".py",
   "mimetype": "text/x-python",
   "name": "python",
   "nbconvert_exporter": "python",
   "pygments_lexer": "ipython3",
   "version": "3.13.5"
  }
 },
 "nbformat": 4,
 "nbformat_minor": 5
}
